{
 "cells": [
  {
   "cell_type": "code",
   "execution_count": 701,
   "id": "d061149e",
   "metadata": {},
   "outputs": [],
   "source": [
    "import pandas as pd\n",
    "import numpy as np\n",
    "import matplotlib.pyplot as plt\n",
    "import seaborn as sb\n",
    "import warnings\n",
    "warnings.filterwarnings('ignore')"
   ]
  },
  {
   "cell_type": "code",
   "execution_count": 702,
   "id": "2a3e460f",
   "metadata": {},
   "outputs": [],
   "source": [
    "train_data=pd.read_csv(\"C:\\\\Users\\\\Manish Gaikwad\\\\Downloads\\\\train.csv\")\n",
    "test_data=pd.read_csv(\"C:\\\\Users\\\\Manish Gaikwad\\\\Downloads\\\\test.csv\")"
   ]
  },
  {
   "cell_type": "code",
   "execution_count": 703,
   "id": "f9b59986",
   "metadata": {},
   "outputs": [],
   "source": [
    "df=pd.concat([train_data,test_data])"
   ]
  },
  {
   "cell_type": "code",
   "execution_count": 704,
   "id": "7db1e154",
   "metadata": {},
   "outputs": [
    {
     "data": {
      "text/html": [
       "<div>\n",
       "<style scoped>\n",
       "    .dataframe tbody tr th:only-of-type {\n",
       "        vertical-align: middle;\n",
       "    }\n",
       "\n",
       "    .dataframe tbody tr th {\n",
       "        vertical-align: top;\n",
       "    }\n",
       "\n",
       "    .dataframe thead th {\n",
       "        text-align: right;\n",
       "    }\n",
       "</style>\n",
       "<table border=\"1\" class=\"dataframe\">\n",
       "  <thead>\n",
       "    <tr style=\"text-align: right;\">\n",
       "      <th></th>\n",
       "      <th>beds</th>\n",
       "      <th>baths</th>\n",
       "      <th>size</th>\n",
       "      <th>size_units</th>\n",
       "      <th>lot_size</th>\n",
       "      <th>lot_size_units</th>\n",
       "      <th>zip_code</th>\n",
       "      <th>price</th>\n",
       "    </tr>\n",
       "  </thead>\n",
       "  <tbody>\n",
       "    <tr>\n",
       "      <th>0</th>\n",
       "      <td>3</td>\n",
       "      <td>2.5</td>\n",
       "      <td>2590.0</td>\n",
       "      <td>sqft</td>\n",
       "      <td>6000.00</td>\n",
       "      <td>sqft</td>\n",
       "      <td>98144</td>\n",
       "      <td>795000.0</td>\n",
       "    </tr>\n",
       "    <tr>\n",
       "      <th>1</th>\n",
       "      <td>4</td>\n",
       "      <td>2.0</td>\n",
       "      <td>2240.0</td>\n",
       "      <td>sqft</td>\n",
       "      <td>0.31</td>\n",
       "      <td>acre</td>\n",
       "      <td>98106</td>\n",
       "      <td>915000.0</td>\n",
       "    </tr>\n",
       "    <tr>\n",
       "      <th>2</th>\n",
       "      <td>4</td>\n",
       "      <td>3.0</td>\n",
       "      <td>2040.0</td>\n",
       "      <td>sqft</td>\n",
       "      <td>3783.00</td>\n",
       "      <td>sqft</td>\n",
       "      <td>98107</td>\n",
       "      <td>950000.0</td>\n",
       "    </tr>\n",
       "    <tr>\n",
       "      <th>3</th>\n",
       "      <td>4</td>\n",
       "      <td>3.0</td>\n",
       "      <td>3800.0</td>\n",
       "      <td>sqft</td>\n",
       "      <td>5175.00</td>\n",
       "      <td>sqft</td>\n",
       "      <td>98199</td>\n",
       "      <td>1950000.0</td>\n",
       "    </tr>\n",
       "    <tr>\n",
       "      <th>4</th>\n",
       "      <td>2</td>\n",
       "      <td>2.0</td>\n",
       "      <td>1042.0</td>\n",
       "      <td>sqft</td>\n",
       "      <td>NaN</td>\n",
       "      <td>NaN</td>\n",
       "      <td>98102</td>\n",
       "      <td>950000.0</td>\n",
       "    </tr>\n",
       "  </tbody>\n",
       "</table>\n",
       "</div>"
      ],
      "text/plain": [
       "   beds  baths    size size_units  lot_size lot_size_units  zip_code  \\\n",
       "0     3    2.5  2590.0       sqft   6000.00           sqft     98144   \n",
       "1     4    2.0  2240.0       sqft      0.31           acre     98106   \n",
       "2     4    3.0  2040.0       sqft   3783.00           sqft     98107   \n",
       "3     4    3.0  3800.0       sqft   5175.00           sqft     98199   \n",
       "4     2    2.0  1042.0       sqft       NaN            NaN     98102   \n",
       "\n",
       "       price  \n",
       "0   795000.0  \n",
       "1   915000.0  \n",
       "2   950000.0  \n",
       "3  1950000.0  \n",
       "4   950000.0  "
      ]
     },
     "execution_count": 704,
     "metadata": {},
     "output_type": "execute_result"
    }
   ],
   "source": [
    "df.head()"
   ]
  },
  {
   "cell_type": "code",
   "execution_count": 705,
   "id": "7324f0af",
   "metadata": {},
   "outputs": [
    {
     "data": {
      "text/html": [
       "<div>\n",
       "<style scoped>\n",
       "    .dataframe tbody tr th:only-of-type {\n",
       "        vertical-align: middle;\n",
       "    }\n",
       "\n",
       "    .dataframe tbody tr th {\n",
       "        vertical-align: top;\n",
       "    }\n",
       "\n",
       "    .dataframe thead th {\n",
       "        text-align: right;\n",
       "    }\n",
       "</style>\n",
       "<table border=\"1\" class=\"dataframe\">\n",
       "  <thead>\n",
       "    <tr style=\"text-align: right;\">\n",
       "      <th></th>\n",
       "      <th>beds</th>\n",
       "      <th>baths</th>\n",
       "      <th>size</th>\n",
       "      <th>size_units</th>\n",
       "      <th>lot_size</th>\n",
       "      <th>lot_size_units</th>\n",
       "      <th>zip_code</th>\n",
       "      <th>price</th>\n",
       "    </tr>\n",
       "  </thead>\n",
       "  <tbody>\n",
       "    <tr>\n",
       "      <th>500</th>\n",
       "      <td>5</td>\n",
       "      <td>4.5</td>\n",
       "      <td>5580.0</td>\n",
       "      <td>sqft</td>\n",
       "      <td>0.30</td>\n",
       "      <td>acre</td>\n",
       "      <td>98146</td>\n",
       "      <td>3800000.0</td>\n",
       "    </tr>\n",
       "    <tr>\n",
       "      <th>501</th>\n",
       "      <td>3</td>\n",
       "      <td>2.5</td>\n",
       "      <td>1390.0</td>\n",
       "      <td>sqft</td>\n",
       "      <td>1570.00</td>\n",
       "      <td>sqft</td>\n",
       "      <td>98126</td>\n",
       "      <td>575000.0</td>\n",
       "    </tr>\n",
       "    <tr>\n",
       "      <th>502</th>\n",
       "      <td>3</td>\n",
       "      <td>2.5</td>\n",
       "      <td>2950.0</td>\n",
       "      <td>sqft</td>\n",
       "      <td>0.47</td>\n",
       "      <td>acre</td>\n",
       "      <td>98118</td>\n",
       "      <td>3105000.0</td>\n",
       "    </tr>\n",
       "    <tr>\n",
       "      <th>503</th>\n",
       "      <td>5</td>\n",
       "      <td>5.0</td>\n",
       "      <td>3010.0</td>\n",
       "      <td>sqft</td>\n",
       "      <td>4887.00</td>\n",
       "      <td>sqft</td>\n",
       "      <td>98115</td>\n",
       "      <td>1807000.0</td>\n",
       "    </tr>\n",
       "    <tr>\n",
       "      <th>504</th>\n",
       "      <td>3</td>\n",
       "      <td>2.0</td>\n",
       "      <td>1301.0</td>\n",
       "      <td>sqft</td>\n",
       "      <td>3000.00</td>\n",
       "      <td>sqft</td>\n",
       "      <td>98103</td>\n",
       "      <td>895000.0</td>\n",
       "    </tr>\n",
       "  </tbody>\n",
       "</table>\n",
       "</div>"
      ],
      "text/plain": [
       "     beds  baths    size size_units  lot_size lot_size_units  zip_code  \\\n",
       "500     5    4.5  5580.0       sqft      0.30           acre     98146   \n",
       "501     3    2.5  1390.0       sqft   1570.00           sqft     98126   \n",
       "502     3    2.5  2950.0       sqft      0.47           acre     98118   \n",
       "503     5    5.0  3010.0       sqft   4887.00           sqft     98115   \n",
       "504     3    2.0  1301.0       sqft   3000.00           sqft     98103   \n",
       "\n",
       "         price  \n",
       "500  3800000.0  \n",
       "501   575000.0  \n",
       "502  3105000.0  \n",
       "503  1807000.0  \n",
       "504   895000.0  "
      ]
     },
     "execution_count": 705,
     "metadata": {},
     "output_type": "execute_result"
    }
   ],
   "source": [
    "df.tail()"
   ]
  },
  {
   "cell_type": "code",
   "execution_count": 706,
   "id": "d7fbc425",
   "metadata": {},
   "outputs": [
    {
     "data": {
      "text/plain": [
       "Index(['beds', 'baths', 'size', 'size_units', 'lot_size', 'lot_size_units',\n",
       "       'zip_code', 'price'],\n",
       "      dtype='object')"
      ]
     },
     "execution_count": 706,
     "metadata": {},
     "output_type": "execute_result"
    }
   ],
   "source": [
    "df.columns"
   ]
  },
  {
   "cell_type": "code",
   "execution_count": 707,
   "id": "b2ccbb9c",
   "metadata": {},
   "outputs": [
    {
     "name": "stdout",
     "output_type": "stream",
     "text": [
      "<class 'pandas.core.frame.DataFrame'>\n",
      "Int64Index: 2521 entries, 0 to 504\n",
      "Data columns (total 8 columns):\n",
      " #   Column          Non-Null Count  Dtype  \n",
      "---  ------          --------------  -----  \n",
      " 0   beds            2521 non-null   int64  \n",
      " 1   baths           2521 non-null   float64\n",
      " 2   size            2521 non-null   float64\n",
      " 3   size_units      2521 non-null   object \n",
      " 4   lot_size        2097 non-null   float64\n",
      " 5   lot_size_units  2097 non-null   object \n",
      " 6   zip_code        2521 non-null   int64  \n",
      " 7   price           2521 non-null   float64\n",
      "dtypes: float64(4), int64(2), object(2)\n",
      "memory usage: 177.3+ KB\n"
     ]
    }
   ],
   "source": [
    "df.info()"
   ]
  },
  {
   "cell_type": "code",
   "execution_count": 708,
   "id": "4e441dad",
   "metadata": {},
   "outputs": [
    {
     "data": {
      "text/html": [
       "<div>\n",
       "<style scoped>\n",
       "    .dataframe tbody tr th:only-of-type {\n",
       "        vertical-align: middle;\n",
       "    }\n",
       "\n",
       "    .dataframe tbody tr th {\n",
       "        vertical-align: top;\n",
       "    }\n",
       "\n",
       "    .dataframe thead th {\n",
       "        text-align: right;\n",
       "    }\n",
       "</style>\n",
       "<table border=\"1\" class=\"dataframe\">\n",
       "  <thead>\n",
       "    <tr style=\"text-align: right;\">\n",
       "      <th></th>\n",
       "      <th>beds</th>\n",
       "      <th>baths</th>\n",
       "      <th>size</th>\n",
       "      <th>lot_size</th>\n",
       "      <th>zip_code</th>\n",
       "      <th>price</th>\n",
       "    </tr>\n",
       "  </thead>\n",
       "  <tbody>\n",
       "    <tr>\n",
       "      <th>count</th>\n",
       "      <td>2521.000000</td>\n",
       "      <td>2521.000000</td>\n",
       "      <td>2521.000000</td>\n",
       "      <td>2097.000000</td>\n",
       "      <td>2521.000000</td>\n",
       "      <td>2.521000e+03</td>\n",
       "    </tr>\n",
       "    <tr>\n",
       "      <th>mean</th>\n",
       "      <td>2.877033</td>\n",
       "      <td>2.171956</td>\n",
       "      <td>1758.998017</td>\n",
       "      <td>3896.245794</td>\n",
       "      <td>98123.984927</td>\n",
       "      <td>9.668217e+05</td>\n",
       "    </tr>\n",
       "    <tr>\n",
       "      <th>std</th>\n",
       "      <td>1.247518</td>\n",
       "      <td>1.004397</td>\n",
       "      <td>921.608036</td>\n",
       "      <td>2714.651578</td>\n",
       "      <td>23.118736</td>\n",
       "      <td>8.870111e+05</td>\n",
       "    </tr>\n",
       "    <tr>\n",
       "      <th>min</th>\n",
       "      <td>1.000000</td>\n",
       "      <td>0.500000</td>\n",
       "      <td>250.000000</td>\n",
       "      <td>0.230000</td>\n",
       "      <td>98101.000000</td>\n",
       "      <td>1.590000e+05</td>\n",
       "    </tr>\n",
       "    <tr>\n",
       "      <th>25%</th>\n",
       "      <td>2.000000</td>\n",
       "      <td>1.500000</td>\n",
       "      <td>1086.000000</td>\n",
       "      <td>1263.000000</td>\n",
       "      <td>98108.000000</td>\n",
       "      <td>6.050000e+05</td>\n",
       "    </tr>\n",
       "    <tr>\n",
       "      <th>50%</th>\n",
       "      <td>3.000000</td>\n",
       "      <td>2.000000</td>\n",
       "      <td>1580.000000</td>\n",
       "      <td>4001.000000</td>\n",
       "      <td>98117.000000</td>\n",
       "      <td>8.130000e+05</td>\n",
       "    </tr>\n",
       "    <tr>\n",
       "      <th>75%</th>\n",
       "      <td>4.000000</td>\n",
       "      <td>2.500000</td>\n",
       "      <td>2270.000000</td>\n",
       "      <td>6000.000000</td>\n",
       "      <td>98126.000000</td>\n",
       "      <td>1.115000e+06</td>\n",
       "    </tr>\n",
       "    <tr>\n",
       "      <th>max</th>\n",
       "      <td>15.000000</td>\n",
       "      <td>9.000000</td>\n",
       "      <td>11010.000000</td>\n",
       "      <td>9998.000000</td>\n",
       "      <td>98199.000000</td>\n",
       "      <td>2.500000e+07</td>\n",
       "    </tr>\n",
       "  </tbody>\n",
       "</table>\n",
       "</div>"
      ],
      "text/plain": [
       "              beds        baths          size     lot_size      zip_code  \\\n",
       "count  2521.000000  2521.000000   2521.000000  2097.000000   2521.000000   \n",
       "mean      2.877033     2.171956   1758.998017  3896.245794  98123.984927   \n",
       "std       1.247518     1.004397    921.608036  2714.651578     23.118736   \n",
       "min       1.000000     0.500000    250.000000     0.230000  98101.000000   \n",
       "25%       2.000000     1.500000   1086.000000  1263.000000  98108.000000   \n",
       "50%       3.000000     2.000000   1580.000000  4001.000000  98117.000000   \n",
       "75%       4.000000     2.500000   2270.000000  6000.000000  98126.000000   \n",
       "max      15.000000     9.000000  11010.000000  9998.000000  98199.000000   \n",
       "\n",
       "              price  \n",
       "count  2.521000e+03  \n",
       "mean   9.668217e+05  \n",
       "std    8.870111e+05  \n",
       "min    1.590000e+05  \n",
       "25%    6.050000e+05  \n",
       "50%    8.130000e+05  \n",
       "75%    1.115000e+06  \n",
       "max    2.500000e+07  "
      ]
     },
     "execution_count": 708,
     "metadata": {},
     "output_type": "execute_result"
    }
   ],
   "source": [
    "df.describe()"
   ]
  },
  {
   "cell_type": "code",
   "execution_count": 709,
   "id": "a516591b",
   "metadata": {},
   "outputs": [
    {
     "data": {
      "text/plain": [
       "beds                0\n",
       "baths               0\n",
       "size                0\n",
       "size_units          0\n",
       "lot_size          424\n",
       "lot_size_units    424\n",
       "zip_code            0\n",
       "price               0\n",
       "dtype: int64"
      ]
     },
     "execution_count": 709,
     "metadata": {},
     "output_type": "execute_result"
    }
   ],
   "source": [
    "df.isnull().sum()"
   ]
  },
  {
   "cell_type": "code",
   "execution_count": 710,
   "id": "c9d0d8d7",
   "metadata": {},
   "outputs": [
    {
     "data": {
      "text/plain": [
       "beds                11\n",
       "baths               16\n",
       "size              1013\n",
       "size_units           1\n",
       "lot_size          1134\n",
       "lot_size_units       2\n",
       "zip_code            29\n",
       "price              876\n",
       "dtype: int64"
      ]
     },
     "execution_count": 710,
     "metadata": {},
     "output_type": "execute_result"
    }
   ],
   "source": [
    "df.nunique()"
   ]
  },
  {
   "cell_type": "code",
   "execution_count": 711,
   "id": "77f774df",
   "metadata": {},
   "outputs": [
    {
     "data": {
      "text/plain": [
       "sqft    1818\n",
       "acre     279\n",
       "Name: lot_size_units, dtype: int64"
      ]
     },
     "execution_count": 711,
     "metadata": {},
     "output_type": "execute_result"
    }
   ],
   "source": [
    "df['lot_size_units'].value_counts()"
   ]
  },
  {
   "cell_type": "code",
   "execution_count": 712,
   "id": "4575f229",
   "metadata": {},
   "outputs": [
    {
     "name": "stdout",
     "output_type": "stream",
     "text": [
      "size units\n",
      " sqft    2521\n",
      "Name: size_units, dtype: int64 \n",
      "\n",
      "lot size units\n",
      " sqft    1818\n",
      "acre     279\n",
      "Name: lot_size_units, dtype: int64\n"
     ]
    }
   ],
   "source": [
    "#some variables are in acre instead of sqft. \n",
    "print (\"size units\\n\",df[\"size_units\"].value_counts(),'\\n')\n",
    "print (\"lot size units\\n\",df[\"lot_size_units\"].value_counts())"
   ]
  },
  {
   "cell_type": "code",
   "execution_count": 713,
   "id": "05bc4476",
   "metadata": {},
   "outputs": [],
   "source": [
    "#convert observation in acres to sqft - lot_size column\n",
    "# Define a function to convert lot_size to sqft\n",
    "def sq_ft(lot):\n",
    "    if lot['lot_size_units'] == 'acre':\n",
    "        return lot['lot_size'] * 43560\n",
    "    else:\n",
    "        return lot['lot_size']"
   ]
  },
  {
   "cell_type": "code",
   "execution_count": 714,
   "id": "04e1866b",
   "metadata": {},
   "outputs": [],
   "source": [
    "# Apply the function -- sqft -- to the lot_size column and create a new column\n",
    "\n",
    "df['lot_size_sqft'] = df.apply(sq_ft, axis=1)"
   ]
  },
  {
   "cell_type": "code",
   "execution_count": 715,
   "id": "501e3511",
   "metadata": {},
   "outputs": [
    {
     "data": {
      "text/html": [
       "<div>\n",
       "<style scoped>\n",
       "    .dataframe tbody tr th:only-of-type {\n",
       "        vertical-align: middle;\n",
       "    }\n",
       "\n",
       "    .dataframe tbody tr th {\n",
       "        vertical-align: top;\n",
       "    }\n",
       "\n",
       "    .dataframe thead th {\n",
       "        text-align: right;\n",
       "    }\n",
       "</style>\n",
       "<table border=\"1\" class=\"dataframe\">\n",
       "  <thead>\n",
       "    <tr style=\"text-align: right;\">\n",
       "      <th></th>\n",
       "      <th>beds</th>\n",
       "      <th>baths</th>\n",
       "      <th>size</th>\n",
       "      <th>size_units</th>\n",
       "      <th>lot_size</th>\n",
       "      <th>lot_size_units</th>\n",
       "      <th>zip_code</th>\n",
       "      <th>price</th>\n",
       "      <th>lot_size_sqft</th>\n",
       "    </tr>\n",
       "  </thead>\n",
       "  <tbody>\n",
       "    <tr>\n",
       "      <th>0</th>\n",
       "      <td>3</td>\n",
       "      <td>2.5</td>\n",
       "      <td>2590.0</td>\n",
       "      <td>sqft</td>\n",
       "      <td>6000.00</td>\n",
       "      <td>sqft</td>\n",
       "      <td>98144</td>\n",
       "      <td>795000.0</td>\n",
       "      <td>6000.0</td>\n",
       "    </tr>\n",
       "    <tr>\n",
       "      <th>1</th>\n",
       "      <td>4</td>\n",
       "      <td>2.0</td>\n",
       "      <td>2240.0</td>\n",
       "      <td>sqft</td>\n",
       "      <td>0.31</td>\n",
       "      <td>acre</td>\n",
       "      <td>98106</td>\n",
       "      <td>915000.0</td>\n",
       "      <td>13503.6</td>\n",
       "    </tr>\n",
       "    <tr>\n",
       "      <th>2</th>\n",
       "      <td>4</td>\n",
       "      <td>3.0</td>\n",
       "      <td>2040.0</td>\n",
       "      <td>sqft</td>\n",
       "      <td>3783.00</td>\n",
       "      <td>sqft</td>\n",
       "      <td>98107</td>\n",
       "      <td>950000.0</td>\n",
       "      <td>3783.0</td>\n",
       "    </tr>\n",
       "    <tr>\n",
       "      <th>3</th>\n",
       "      <td>4</td>\n",
       "      <td>3.0</td>\n",
       "      <td>3800.0</td>\n",
       "      <td>sqft</td>\n",
       "      <td>5175.00</td>\n",
       "      <td>sqft</td>\n",
       "      <td>98199</td>\n",
       "      <td>1950000.0</td>\n",
       "      <td>5175.0</td>\n",
       "    </tr>\n",
       "    <tr>\n",
       "      <th>4</th>\n",
       "      <td>2</td>\n",
       "      <td>2.0</td>\n",
       "      <td>1042.0</td>\n",
       "      <td>sqft</td>\n",
       "      <td>NaN</td>\n",
       "      <td>NaN</td>\n",
       "      <td>98102</td>\n",
       "      <td>950000.0</td>\n",
       "      <td>NaN</td>\n",
       "    </tr>\n",
       "  </tbody>\n",
       "</table>\n",
       "</div>"
      ],
      "text/plain": [
       "   beds  baths    size size_units  lot_size lot_size_units  zip_code  \\\n",
       "0     3    2.5  2590.0       sqft   6000.00           sqft     98144   \n",
       "1     4    2.0  2240.0       sqft      0.31           acre     98106   \n",
       "2     4    3.0  2040.0       sqft   3783.00           sqft     98107   \n",
       "3     4    3.0  3800.0       sqft   5175.00           sqft     98199   \n",
       "4     2    2.0  1042.0       sqft       NaN            NaN     98102   \n",
       "\n",
       "       price  lot_size_sqft  \n",
       "0   795000.0         6000.0  \n",
       "1   915000.0        13503.6  \n",
       "2   950000.0         3783.0  \n",
       "3  1950000.0         5175.0  \n",
       "4   950000.0            NaN  "
      ]
     },
     "execution_count": 715,
     "metadata": {},
     "output_type": "execute_result"
    }
   ],
   "source": [
    "df.head()"
   ]
  },
  {
   "cell_type": "code",
   "execution_count": 716,
   "id": "bb3f27c9",
   "metadata": {},
   "outputs": [
    {
     "data": {
      "text/plain": [
       "0       6000.0\n",
       "1      13503.6\n",
       "2       3783.0\n",
       "3       5175.0\n",
       "4          NaN\n",
       "        ...   \n",
       "500    13068.0\n",
       "501     1570.0\n",
       "502    20473.2\n",
       "503     4887.0\n",
       "504     3000.0\n",
       "Name: lot_size_sqft, Length: 2521, dtype: float64"
      ]
     },
     "execution_count": 716,
     "metadata": {},
     "output_type": "execute_result"
    }
   ],
   "source": [
    "df['lot_size_sqft']"
   ]
  },
  {
   "cell_type": "code",
   "execution_count": 717,
   "id": "3e52bee4",
   "metadata": {},
   "outputs": [
    {
     "data": {
      "text/plain": [
       "424"
      ]
     },
     "execution_count": 717,
     "metadata": {},
     "output_type": "execute_result"
    }
   ],
   "source": [
    "df.lot_size_sqft.isnull().sum()"
   ]
  },
  {
   "cell_type": "markdown",
   "id": "664ed1b2",
   "metadata": {},
   "source": [
    "## Handling null value using simple imputer"
   ]
  },
  {
   "cell_type": "code",
   "execution_count": 718,
   "id": "52eccf97",
   "metadata": {},
   "outputs": [],
   "source": [
    "from sklearn.impute import SimpleImputer"
   ]
  },
  {
   "cell_type": "code",
   "execution_count": 719,
   "id": "2b7157f5",
   "metadata": {},
   "outputs": [],
   "source": [
    "imputer_cols=['lot_size_sqft']\n",
    "imputer = SimpleImputer(strategy='median')\n",
    "imputer.fit(df[imputer_cols])\n",
    "df[imputer_cols] = imputer.transform(df[imputer_cols])"
   ]
  },
  {
   "cell_type": "code",
   "execution_count": 720,
   "id": "6a34283a",
   "metadata": {},
   "outputs": [
    {
     "data": {
      "text/plain": [
       "0"
      ]
     },
     "execution_count": 720,
     "metadata": {},
     "output_type": "execute_result"
    }
   ],
   "source": [
    "df.lot_size_sqft.isnull().sum()"
   ]
  },
  {
   "cell_type": "code",
   "execution_count": 721,
   "id": "0d932a9c",
   "metadata": {},
   "outputs": [
    {
     "data": {
      "text/plain": [
       "29"
      ]
     },
     "execution_count": 721,
     "metadata": {},
     "output_type": "execute_result"
    }
   ],
   "source": [
    "#Check number of unique values\n",
    "df[\"zip_code\"].nunique()"
   ]
  },
  {
   "cell_type": "code",
   "execution_count": 722,
   "id": "981bb408",
   "metadata": {},
   "outputs": [
    {
     "data": {
      "text/plain": [
       "dtype('int64')"
      ]
     },
     "execution_count": 722,
     "metadata": {},
     "output_type": "execute_result"
    }
   ],
   "source": [
    "#zip code issues to check datatype\n",
    "df[\"zip_code\"].dtypes"
   ]
  },
  {
   "cell_type": "code",
   "execution_count": 723,
   "id": "9a5fe517",
   "metadata": {},
   "outputs": [
    {
     "name": "stdout",
     "output_type": "stream",
     "text": [
      "<class 'pandas.core.frame.DataFrame'>\n",
      "Int64Index: 2521 entries, 0 to 504\n",
      "Data columns (total 10 columns):\n",
      " #   Column          Non-Null Count  Dtype   \n",
      "---  ------          --------------  -----   \n",
      " 0   beds            2521 non-null   int64   \n",
      " 1   baths           2521 non-null   float64 \n",
      " 2   size            2521 non-null   float64 \n",
      " 3   size_units      2521 non-null   object  \n",
      " 4   lot_size        2097 non-null   float64 \n",
      " 5   lot_size_units  2097 non-null   object  \n",
      " 6   zip_code        2521 non-null   int64   \n",
      " 7   price           2521 non-null   float64 \n",
      " 8   lot_size_sqft   2521 non-null   float64 \n",
      " 9   zip_cat         2521 non-null   category\n",
      "dtypes: category(1), float64(5), int64(2), object(2)\n",
      "memory usage: 200.7+ KB\n"
     ]
    }
   ],
   "source": [
    "#convert zip_code to a categorical variable in a new column\n",
    "df[\"zip_cat\"] = df[\"zip_code\"].astype('category')\n",
    "df.info()"
   ]
  },
  {
   "cell_type": "code",
   "execution_count": 724,
   "id": "e2d77c96",
   "metadata": {},
   "outputs": [
    {
     "name": "stdout",
     "output_type": "stream",
     "text": [
      "(29,)\n"
     ]
    },
    {
     "data": {
      "text/plain": [
       "zip_cat\n",
       "98105    1.852051e+06\n",
       "98112    1.665909e+06\n",
       "98177    1.295369e+06\n",
       "98199    1.231790e+06\n",
       "98102    1.222570e+06\n",
       "98119    1.074703e+06\n",
       "98115    1.017842e+06\n",
       "98136    1.017331e+06\n",
       "98117    1.000516e+06\n",
       "98109    9.789456e+05\n",
       "Name: price, dtype: float64"
      ]
     },
     "execution_count": 724,
     "metadata": {},
     "output_type": "execute_result"
    }
   ],
   "source": [
    "mean_by_zip_code = df.groupby('zip_cat')['price'].mean().sort_values(ascending= False)\n",
    "print(mean_by_zip_code.shape)\n",
    "mean_by_zip_code.head(10)"
   ]
  },
  {
   "cell_type": "code",
   "execution_count": 725,
   "id": "aa6c66e1",
   "metadata": {},
   "outputs": [
    {
     "data": {
      "image/png": "[encoded data removed]",
      "text/plain": [
       "<Figure size 720x576 with 1 Axes>"
      ]
     },
     "metadata": {
      "needs_background": "light"
     },
     "output_type": "display_data"
    }
   ],
   "source": [
    "plt.figure(figsize=(10, 8))\n",
    "mean_by_zip_code.plot.bar()\n",
    "plt.xlabel('Zip code')\n",
    "plt.ylabel('Price')\n",
    "plt.show()"
   ]
  },
  {
   "cell_type": "markdown",
   "id": "c5449e70",
   "metadata": {},
   "source": [
    "##  TO CHECK OUTLIER IN DATA"
   ]
  },
  {
   "cell_type": "code",
   "execution_count": 726,
   "id": "f8b7d11f",
   "metadata": {},
   "outputs": [
    {
     "data": {
      "text/plain": [
       "Text(0, 0.5, 'size')"
      ]
     },
     "execution_count": 726,
     "metadata": {},
     "output_type": "execute_result"
    },
    {
     "data": {
      "image/png": "[encoded data removed]",
      "text/plain": [
       "<Figure size 2160x1440 with 1 Axes>"
      ]
     },
     "metadata": {
      "needs_background": "light"
     },
     "output_type": "display_data"
    },
    {
     "data": {
      "image/png": "[encoded data removed]",
      "text/plain": [
       "<Figure size 2160x1440 with 1 Axes>"
      ]
     },
     "metadata": {
      "needs_background": "light"
     },
     "output_type": "display_data"
    },
    {
     "data": {
      "image/png": "[encoded data removed]",
      "text/plain": [
       "<Figure size 2160x1440 with 1 Axes>"
      ]
     },
     "metadata": {
      "needs_background": "light"
     },
     "output_type": "display_data"
    },
    {
     "data": {
      "image/png": "[encoded data removed]",
      "text/plain": [
       "<Figure size 2160x1440 with 1 Axes>"
      ]
     },
     "metadata": {
      "needs_background": "light"
     },
     "output_type": "display_data"
    }
   ],
   "source": [
    "plt.figure(figsize=(30,20))\n",
    "plt.subplot(4,2,1)\n",
    "fig=df.boxplot(column='price')\n",
    "fig.set_ylabel('price')\n",
    "\n",
    "plt.figure(figsize=(30,20))\n",
    "plt.subplot(4,2,1)\n",
    "fig=df.boxplot(column='beds')\n",
    "fig.set_ylabel('beds')\n",
    "\n",
    "plt.figure(figsize=(30,20))\n",
    "plt.subplot(4,2,1)\n",
    "fig=df.boxplot(column='baths')\n",
    "fig.set_ylabel('baths')\n",
    "\n",
    "plt.figure(figsize=(30,20))\n",
    "plt.subplot(4,2,1)\n",
    "fig=df.boxplot(column='size')\n",
    "fig.set_ylabel('size')"
   ]
  },
  {
   "cell_type": "markdown",
   "id": "edc97a8a",
   "metadata": {},
   "source": [
    "##  TO CHECK SKEWNESS"
   ]
  },
  {
   "cell_type": "code",
   "execution_count": 727,
   "id": "9fbbc36c",
   "metadata": {},
   "outputs": [
    {
     "data": {
      "image/png": "[encoded data removed]",
      "text/plain": [
       "<Figure size 432x288 with 1 Axes>"
      ]
     },
     "metadata": {
      "needs_background": "light"
     },
     "output_type": "display_data"
    },
    {
     "data": {
      "image/png": "[encoded data removed]",
      "text/plain": [
       "<Figure size 432x288 with 1 Axes>"
      ]
     },
     "metadata": {
      "needs_background": "light"
     },
     "output_type": "display_data"
    },
    {
     "data": {
      "image/png": "[encoded data removed]",
      "text/plain": [
       "<Figure size 432x288 with 1 Axes>"
      ]
     },
     "metadata": {
      "needs_background": "light"
     },
     "output_type": "display_data"
    },
    {
     "data": {
      "image/png": "[encoded data removed]",
      "text/plain": [
       "<Figure size 432x288 with 1 Axes>"
      ]
     },
     "metadata": {
      "needs_background": "light"
     },
     "output_type": "display_data"
    }
   ],
   "source": [
    "plt.figure()\n",
    "sb.distplot(df['beds'])\n",
    "plt.show()\n",
    "\n",
    "plt.figure()\n",
    "sb.distplot(df['price'])\n",
    "plt.show()\n",
    "\n",
    "plt.figure()\n",
    "sb.distplot(df['baths'])\n",
    "plt.show()\n",
    "\n",
    "plt.figure()\n",
    "sb.distplot(df['size'])\n",
    "plt.show()"
   ]
  },
  {
   "cell_type": "code",
   "execution_count": 728,
   "id": "4f8c5b30",
   "metadata": {},
   "outputs": [
    {
     "data": {
      "text/plain": [
       "array([[<AxesSubplot:title={'center':'beds'}>,\n",
       "        <AxesSubplot:title={'center':'baths'}>,\n",
       "        <AxesSubplot:title={'center':'size'}>],\n",
       "       [<AxesSubplot:title={'center':'lot_size'}>,\n",
       "        <AxesSubplot:title={'center':'zip_code'}>,\n",
       "        <AxesSubplot:title={'center':'price'}>],\n",
       "       [<AxesSubplot:title={'center':'lot_size_sqft'}>, <AxesSubplot:>,\n",
       "        <AxesSubplot:>]], dtype=object)"
      ]
     },
     "execution_count": 728,
     "metadata": {},
     "output_type": "execute_result"
    },
    {
     "data": {
      "image/png": "[encoded data removed]",
      "text/plain": [
       "<Figure size 1080x576 with 9 Axes>"
      ]
     },
     "metadata": {
      "needs_background": "light"
     },
     "output_type": "display_data"
    }
   ],
   "source": [
    "df.hist(figsize=(15,8))"
   ]
  },
  {
   "cell_type": "code",
   "execution_count": 729,
   "id": "731773aa",
   "metadata": {},
   "outputs": [
    {
     "data": {
      "image/png": "[encoded data removed]",
      "text/plain": [
       "<Figure size 432x288 with 2 Axes>"
      ]
     },
     "metadata": {
      "needs_background": "light"
     },
     "output_type": "display_data"
    }
   ],
   "source": [
    "#plotting correlation heatmap\n",
    "dataplot = sb.heatmap(df.corr(), cmap=\"YlGnBu\", annot=True)      #using seaborn\n",
    "  \n",
    "# displaying heatmap\n",
    "plt.show()"
   ]
  },
  {
   "cell_type": "code",
   "execution_count": 730,
   "id": "11ee7825",
   "metadata": {},
   "outputs": [
    {
     "data": {
      "text/html": [
       "<div>\n",
       "<style scoped>\n",
       "    .dataframe tbody tr th:only-of-type {\n",
       "        vertical-align: middle;\n",
       "    }\n",
       "\n",
       "    .dataframe tbody tr th {\n",
       "        vertical-align: top;\n",
       "    }\n",
       "\n",
       "    .dataframe thead th {\n",
       "        text-align: right;\n",
       "    }\n",
       "</style>\n",
       "<table border=\"1\" class=\"dataframe\">\n",
       "  <thead>\n",
       "    <tr style=\"text-align: right;\">\n",
       "      <th></th>\n",
       "      <th>beds</th>\n",
       "      <th>baths</th>\n",
       "      <th>size</th>\n",
       "      <th>lot_size</th>\n",
       "      <th>zip_code</th>\n",
       "      <th>price</th>\n",
       "      <th>lot_size_sqft</th>\n",
       "    </tr>\n",
       "  </thead>\n",
       "  <tbody>\n",
       "    <tr>\n",
       "      <th>beds</th>\n",
       "      <td>1.000000</td>\n",
       "      <td>0.660099</td>\n",
       "      <td>0.770757</td>\n",
       "      <td>0.279501</td>\n",
       "      <td>0.081527</td>\n",
       "      <td>0.316855</td>\n",
       "      <td>-0.047101</td>\n",
       "    </tr>\n",
       "    <tr>\n",
       "      <th>baths</th>\n",
       "      <td>0.660099</td>\n",
       "      <td>1.000000</td>\n",
       "      <td>0.675225</td>\n",
       "      <td>0.031343</td>\n",
       "      <td>0.004700</td>\n",
       "      <td>0.349062</td>\n",
       "      <td>-0.035246</td>\n",
       "    </tr>\n",
       "    <tr>\n",
       "      <th>size</th>\n",
       "      <td>0.770757</td>\n",
       "      <td>0.675225</td>\n",
       "      <td>1.000000</td>\n",
       "      <td>0.263893</td>\n",
       "      <td>0.087106</td>\n",
       "      <td>0.476061</td>\n",
       "      <td>-0.043275</td>\n",
       "    </tr>\n",
       "    <tr>\n",
       "      <th>lot_size</th>\n",
       "      <td>0.279501</td>\n",
       "      <td>0.031343</td>\n",
       "      <td>0.263893</td>\n",
       "      <td>1.000000</td>\n",
       "      <td>0.148520</td>\n",
       "      <td>0.084253</td>\n",
       "      <td>-0.059225</td>\n",
       "    </tr>\n",
       "    <tr>\n",
       "      <th>zip_code</th>\n",
       "      <td>0.081527</td>\n",
       "      <td>0.004700</td>\n",
       "      <td>0.087106</td>\n",
       "      <td>0.148520</td>\n",
       "      <td>1.000000</td>\n",
       "      <td>-0.031812</td>\n",
       "      <td>-0.020444</td>\n",
       "    </tr>\n",
       "    <tr>\n",
       "      <th>price</th>\n",
       "      <td>0.316855</td>\n",
       "      <td>0.349062</td>\n",
       "      <td>0.476061</td>\n",
       "      <td>0.084253</td>\n",
       "      <td>-0.031812</td>\n",
       "      <td>1.000000</td>\n",
       "      <td>-0.023644</td>\n",
       "    </tr>\n",
       "    <tr>\n",
       "      <th>lot_size_sqft</th>\n",
       "      <td>-0.047101</td>\n",
       "      <td>-0.035246</td>\n",
       "      <td>-0.043275</td>\n",
       "      <td>-0.059225</td>\n",
       "      <td>-0.020444</td>\n",
       "      <td>-0.023644</td>\n",
       "      <td>1.000000</td>\n",
       "    </tr>\n",
       "  </tbody>\n",
       "</table>\n",
       "</div>"
      ],
      "text/plain": [
       "                   beds     baths      size  lot_size  zip_code     price  \\\n",
       "beds           1.000000  0.660099  0.770757  0.279501  0.081527  0.316855   \n",
       "baths          0.660099  1.000000  0.675225  0.031343  0.004700  0.349062   \n",
       "size           0.770757  0.675225  1.000000  0.263893  0.087106  0.476061   \n",
       "lot_size       0.279501  0.031343  0.263893  1.000000  0.148520  0.084253   \n",
       "zip_code       0.081527  0.004700  0.087106  0.148520  1.000000 -0.031812   \n",
       "price          0.316855  0.349062  0.476061  0.084253 -0.031812  1.000000   \n",
       "lot_size_sqft -0.047101 -0.035246 -0.043275 -0.059225 -0.020444 -0.023644   \n",
       "\n",
       "               lot_size_sqft  \n",
       "beds               -0.047101  \n",
       "baths              -0.035246  \n",
       "size               -0.043275  \n",
       "lot_size           -0.059225  \n",
       "zip_code           -0.020444  \n",
       "price              -0.023644  \n",
       "lot_size_sqft       1.000000  "
      ]
     },
     "execution_count": 730,
     "metadata": {},
     "output_type": "execute_result"
    }
   ],
   "source": [
    "df.corr()"
   ]
  },
  {
   "cell_type": "markdown",
   "id": "43645005",
   "metadata": {},
   "source": [
    "## Handling null value using IQR "
   ]
  },
  {
   "cell_type": "markdown",
   "id": "6902cc53",
   "metadata": {},
   "source": [
    "# 1"
   ]
  },
  {
   "cell_type": "code",
   "execution_count": 731,
   "id": "23ee6555",
   "metadata": {},
   "outputs": [],
   "source": [
    "percentile25=df['price'].quantile(0.25)\n",
    "percentile75=df['price'].quantile(0.75)"
   ]
  },
  {
   "cell_type": "code",
   "execution_count": 732,
   "id": "c4dccfe5",
   "metadata": {},
   "outputs": [],
   "source": [
    "iqr=percentile75-percentile25"
   ]
  },
  {
   "cell_type": "code",
   "execution_count": 733,
   "id": "e574e370",
   "metadata": {},
   "outputs": [],
   "source": [
    "upper_limit= percentile25+1.5*iqr\n",
    "lower_limit=percentile75-1.5*iqr"
   ]
  },
  {
   "cell_type": "code",
   "execution_count": 734,
   "id": "055e49e1",
   "metadata": {},
   "outputs": [
    {
     "name": "stdout",
     "output_type": "stream",
     "text": [
      "upper_limit 1370000.0\n",
      "lower_limit 350000.0\n"
     ]
    }
   ],
   "source": [
    "print(\"upper_limit\",upper_limit)\n",
    "print(\"lower_limit\",lower_limit)"
   ]
  },
  {
   "cell_type": "markdown",
   "id": "65a9d420",
   "metadata": {},
   "source": [
    "# Trimming"
   ]
  },
  {
   "cell_type": "code",
   "execution_count": 735,
   "id": "3db60ba5",
   "metadata": {},
   "outputs": [],
   "source": [
    "new_df=df[df['price']<upper_limit]"
   ]
  },
  {
   "cell_type": "code",
   "execution_count": 736,
   "id": "94c703a9",
   "metadata": {},
   "outputs": [
    {
     "data": {
      "text/plain": [
       "Text(0, 0.5, 'price')"
      ]
     },
     "execution_count": 736,
     "metadata": {},
     "output_type": "execute_result"
    },
    {
     "data": {
      "image/png": "[encoded data removed]",
      "text/plain": [
       "<Figure size 2160x1440 with 1 Axes>"
      ]
     },
     "metadata": {
      "needs_background": "light"
     },
     "output_type": "display_data"
    }
   ],
   "source": [
    "plt.figure(figsize=(30,20))\n",
    "plt.subplot(4,2,1)\n",
    "fig=new_df.boxplot(column='price')\n",
    "fig.set_ylabel('price')\n"
   ]
  },
  {
   "cell_type": "markdown",
   "id": "13ef0721",
   "metadata": {},
   "source": [
    "## 2"
   ]
  },
  {
   "cell_type": "code",
   "execution_count": 737,
   "id": "13987148",
   "metadata": {},
   "outputs": [],
   "source": [
    "percentile25=df['size'].quantile(0.25)\n",
    "percentile75=df['size'].quantile(0.75)"
   ]
  },
  {
   "cell_type": "code",
   "execution_count": 738,
   "id": "d0e7a1a4",
   "metadata": {},
   "outputs": [],
   "source": [
    "iqr2=percentile75-percentile25"
   ]
  },
  {
   "cell_type": "code",
   "execution_count": 739,
   "id": "cf2e09bb",
   "metadata": {},
   "outputs": [],
   "source": [
    "upper_limit= percentile25+1.5*iqr2\n",
    "lower_limit=percentile75-1.5*iqr2"
   ]
  },
  {
   "cell_type": "code",
   "execution_count": 740,
   "id": "0d0a8dca",
   "metadata": {},
   "outputs": [
    {
     "name": "stdout",
     "output_type": "stream",
     "text": [
      "upper_limit 2862.0\n",
      "lower_limit 494.0\n"
     ]
    }
   ],
   "source": [
    "print(\"upper_limit\",upper_limit)\n",
    "print(\"lower_limit\",lower_limit)"
   ]
  },
  {
   "cell_type": "code",
   "execution_count": 741,
   "id": "9324cf11",
   "metadata": {},
   "outputs": [],
   "source": [
    "new_df=df[df['size']<upper_limit]"
   ]
  },
  {
   "cell_type": "code",
   "execution_count": 742,
   "id": "c1af2d28",
   "metadata": {},
   "outputs": [
    {
     "data": {
      "text/plain": [
       "Text(0, 0.5, 'size')"
      ]
     },
     "execution_count": 742,
     "metadata": {},
     "output_type": "execute_result"
    },
    {
     "data": {
      "image/png": "[encoded data removed]",
      "text/plain": [
       "<Figure size 2160x1440 with 1 Axes>"
      ]
     },
     "metadata": {
      "needs_background": "light"
     },
     "output_type": "display_data"
    }
   ],
   "source": [
    "plt.figure(figsize=(30,20))\n",
    "plt.subplot(4,2,1)\n",
    "fig=new_df.boxplot(column='size')\n",
    "fig.set_ylabel('size')\n"
   ]
  },
  {
   "cell_type": "markdown",
   "id": "1d45af68",
   "metadata": {},
   "source": [
    "# 3"
   ]
  },
  {
   "cell_type": "code",
   "execution_count": 743,
   "id": "d4bc8ac9",
   "metadata": {},
   "outputs": [],
   "source": [
    "percentile25=df['baths'].quantile(0.25)\n",
    "percentile75=df['baths'].quantile(0.75)"
   ]
  },
  {
   "cell_type": "code",
   "execution_count": 744,
   "id": "3cd3f540",
   "metadata": {},
   "outputs": [],
   "source": [
    "iqr3=percentile75-percentile25"
   ]
  },
  {
   "cell_type": "code",
   "execution_count": 745,
   "id": "17cd622c",
   "metadata": {},
   "outputs": [],
   "source": [
    "upper_limit= percentile25+1.5*iqr3\n",
    "lower_limit=percentile75-1.5*iqr3"
   ]
  },
  {
   "cell_type": "code",
   "execution_count": 746,
   "id": "d9abc69d",
   "metadata": {},
   "outputs": [
    {
     "name": "stdout",
     "output_type": "stream",
     "text": [
      "upper_limit 3.0\n",
      "lower_limit 1.0\n"
     ]
    }
   ],
   "source": [
    "print(\"upper_limit\",upper_limit)\n",
    "print(\"lower_limit\",lower_limit)"
   ]
  },
  {
   "cell_type": "code",
   "execution_count": 747,
   "id": "caa660c9",
   "metadata": {},
   "outputs": [],
   "source": [
    "new_df=df[df['baths']<upper_limit]"
   ]
  },
  {
   "cell_type": "code",
   "execution_count": 748,
   "id": "743cb1c3",
   "metadata": {},
   "outputs": [
    {
     "data": {
      "text/plain": [
       "Text(0, 0.5, 'baths')"
      ]
     },
     "execution_count": 748,
     "metadata": {},
     "output_type": "execute_result"
    },
    {
     "data": {
      "image/png": "[encoded data removed]",
      "text/plain": [
       "<Figure size 2160x1440 with 1 Axes>"
      ]
     },
     "metadata": {
      "needs_background": "light"
     },
     "output_type": "display_data"
    }
   ],
   "source": [
    "plt.figure(figsize=(30,20))\n",
    "plt.subplot(4,2,1)\n",
    "fig=new_df.boxplot(column='baths')\n",
    "fig.set_ylabel('baths')"
   ]
  },
  {
   "cell_type": "markdown",
   "id": "e3b046a7",
   "metadata": {},
   "source": [
    "# 4"
   ]
  },
  {
   "cell_type": "code",
   "execution_count": 749,
   "id": "5198f60e",
   "metadata": {},
   "outputs": [],
   "source": [
    "percentile25=df['beds'].quantile(0.25)\n",
    "percentile75=df['beds'].quantile(0.75)"
   ]
  },
  {
   "cell_type": "code",
   "execution_count": 750,
   "id": "db5bad48",
   "metadata": {},
   "outputs": [],
   "source": [
    "iqr4=percentile75-percentile25"
   ]
  },
  {
   "cell_type": "code",
   "execution_count": 751,
   "id": "6d3650cd",
   "metadata": {},
   "outputs": [],
   "source": [
    "upper_limit= percentile25+1.5*iqr4\n",
    "lower_limit=percentile75-1.5*iqr4"
   ]
  },
  {
   "cell_type": "code",
   "execution_count": 752,
   "id": "b7d65f4e",
   "metadata": {},
   "outputs": [
    {
     "name": "stdout",
     "output_type": "stream",
     "text": [
      "upper_limit 5.0\n",
      "lower_limit 1.0\n"
     ]
    }
   ],
   "source": [
    "print(\"upper_limit\",upper_limit)\n",
    "print(\"lower_limit\",lower_limit)"
   ]
  },
  {
   "cell_type": "code",
   "execution_count": 753,
   "id": "0ae29ec5",
   "metadata": {},
   "outputs": [],
   "source": [
    "new_df=df[df['beds']<upper_limit]"
   ]
  },
  {
   "cell_type": "code",
   "execution_count": 754,
   "id": "0c486817",
   "metadata": {},
   "outputs": [
    {
     "data": {
      "text/plain": [
       "Text(0, 0.5, 'beds')"
      ]
     },
     "execution_count": 754,
     "metadata": {},
     "output_type": "execute_result"
    },
    {
     "data": {
      "image/png": "[encoded data removed]",
      "text/plain": [
       "<Figure size 2160x1440 with 1 Axes>"
      ]
     },
     "metadata": {
      "needs_background": "light"
     },
     "output_type": "display_data"
    }
   ],
   "source": [
    "plt.figure(figsize=(30,20))\n",
    "plt.subplot(4,2,1)\n",
    "fig=new_df.boxplot(column='beds')\n",
    "fig.set_ylabel('beds')\n"
   ]
  },
  {
   "cell_type": "code",
   "execution_count": 755,
   "id": "fe4cb23e",
   "metadata": {},
   "outputs": [
    {
     "data": {
      "text/html": [
       "<div>\n",
       "<style scoped>\n",
       "    .dataframe tbody tr th:only-of-type {\n",
       "        vertical-align: middle;\n",
       "    }\n",
       "\n",
       "    .dataframe tbody tr th {\n",
       "        vertical-align: top;\n",
       "    }\n",
       "\n",
       "    .dataframe thead th {\n",
       "        text-align: right;\n",
       "    }\n",
       "</style>\n",
       "<table border=\"1\" class=\"dataframe\">\n",
       "  <thead>\n",
       "    <tr style=\"text-align: right;\">\n",
       "      <th></th>\n",
       "      <th>beds</th>\n",
       "      <th>baths</th>\n",
       "      <th>size</th>\n",
       "      <th>size_units</th>\n",
       "      <th>lot_size</th>\n",
       "      <th>lot_size_units</th>\n",
       "      <th>zip_code</th>\n",
       "      <th>price</th>\n",
       "      <th>lot_size_sqft</th>\n",
       "      <th>zip_cat</th>\n",
       "    </tr>\n",
       "  </thead>\n",
       "  <tbody>\n",
       "    <tr>\n",
       "      <th>0</th>\n",
       "      <td>3</td>\n",
       "      <td>2.5</td>\n",
       "      <td>2590.0</td>\n",
       "      <td>sqft</td>\n",
       "      <td>6000.00</td>\n",
       "      <td>sqft</td>\n",
       "      <td>98144</td>\n",
       "      <td>795000.0</td>\n",
       "      <td>6000.0</td>\n",
       "      <td>98144</td>\n",
       "    </tr>\n",
       "    <tr>\n",
       "      <th>1</th>\n",
       "      <td>4</td>\n",
       "      <td>2.0</td>\n",
       "      <td>2240.0</td>\n",
       "      <td>sqft</td>\n",
       "      <td>0.31</td>\n",
       "      <td>acre</td>\n",
       "      <td>98106</td>\n",
       "      <td>915000.0</td>\n",
       "      <td>13503.6</td>\n",
       "      <td>98106</td>\n",
       "    </tr>\n",
       "    <tr>\n",
       "      <th>2</th>\n",
       "      <td>4</td>\n",
       "      <td>3.0</td>\n",
       "      <td>2040.0</td>\n",
       "      <td>sqft</td>\n",
       "      <td>3783.00</td>\n",
       "      <td>sqft</td>\n",
       "      <td>98107</td>\n",
       "      <td>950000.0</td>\n",
       "      <td>3783.0</td>\n",
       "      <td>98107</td>\n",
       "    </tr>\n",
       "    <tr>\n",
       "      <th>3</th>\n",
       "      <td>4</td>\n",
       "      <td>3.0</td>\n",
       "      <td>3800.0</td>\n",
       "      <td>sqft</td>\n",
       "      <td>5175.00</td>\n",
       "      <td>sqft</td>\n",
       "      <td>98199</td>\n",
       "      <td>1950000.0</td>\n",
       "      <td>5175.0</td>\n",
       "      <td>98199</td>\n",
       "    </tr>\n",
       "    <tr>\n",
       "      <th>4</th>\n",
       "      <td>2</td>\n",
       "      <td>2.0</td>\n",
       "      <td>1042.0</td>\n",
       "      <td>sqft</td>\n",
       "      <td>NaN</td>\n",
       "      <td>NaN</td>\n",
       "      <td>98102</td>\n",
       "      <td>950000.0</td>\n",
       "      <td>5000.0</td>\n",
       "      <td>98102</td>\n",
       "    </tr>\n",
       "  </tbody>\n",
       "</table>\n",
       "</div>"
      ],
      "text/plain": [
       "   beds  baths    size size_units  lot_size lot_size_units  zip_code  \\\n",
       "0     3    2.5  2590.0       sqft   6000.00           sqft     98144   \n",
       "1     4    2.0  2240.0       sqft      0.31           acre     98106   \n",
       "2     4    3.0  2040.0       sqft   3783.00           sqft     98107   \n",
       "3     4    3.0  3800.0       sqft   5175.00           sqft     98199   \n",
       "4     2    2.0  1042.0       sqft       NaN            NaN     98102   \n",
       "\n",
       "       price  lot_size_sqft zip_cat  \n",
       "0   795000.0         6000.0   98144  \n",
       "1   915000.0        13503.6   98106  \n",
       "2   950000.0         3783.0   98107  \n",
       "3  1950000.0         5175.0   98199  \n",
       "4   950000.0         5000.0   98102  "
      ]
     },
     "execution_count": 755,
     "metadata": {},
     "output_type": "execute_result"
    }
   ],
   "source": [
    "new_df.head()"
   ]
  },
  {
   "cell_type": "code",
   "execution_count": 756,
   "id": "1cc6c3b4",
   "metadata": {},
   "outputs": [
    {
     "data": {
      "text/plain": [
       "beds                0\n",
       "baths               0\n",
       "size                0\n",
       "size_units          0\n",
       "lot_size          424\n",
       "lot_size_units    424\n",
       "zip_code            0\n",
       "price               0\n",
       "lot_size_sqft       0\n",
       "zip_cat             0\n",
       "dtype: int64"
      ]
     },
     "execution_count": 756,
     "metadata": {},
     "output_type": "execute_result"
    }
   ],
   "source": [
    "new_df.isnull().sum()"
   ]
  },
  {
   "cell_type": "markdown",
   "id": "6c311288",
   "metadata": {},
   "source": [
    "## Handle skewness using np.log function"
   ]
  },
  {
   "cell_type": "code",
   "execution_count": 757,
   "id": "0e4aaf9b",
   "metadata": {},
   "outputs": [],
   "source": [
    "new_df['price']=np.log(new_df['price'])"
   ]
  },
  {
   "cell_type": "code",
   "execution_count": 758,
   "id": "f0cb9d74",
   "metadata": {},
   "outputs": [
    {
     "data": {
      "text/plain": [
       "array([[<AxesSubplot:title={'center':'price'}>]], dtype=object)"
      ]
     },
     "execution_count": 758,
     "metadata": {},
     "output_type": "execute_result"
    },
    {
     "data": {
      "image/png": "[encoded data removed]",
      "text/plain": [
       "<Figure size 432x288 with 1 Axes>"
      ]
     },
     "metadata": {
      "needs_background": "light"
     },
     "output_type": "display_data"
    }
   ],
   "source": [
    "new_df.hist(['price'])"
   ]
  },
  {
   "cell_type": "code",
   "execution_count": 759,
   "id": "c4700fd6",
   "metadata": {},
   "outputs": [],
   "source": [
    "new_df['lot_size_sqft']=np.log(new_df['lot_size_sqft'])"
   ]
  },
  {
   "cell_type": "code",
   "execution_count": 760,
   "id": "2113b405",
   "metadata": {},
   "outputs": [
    {
     "data": {
      "text/plain": [
       "array([[<AxesSubplot:title={'center':'lot_size_sqft'}>]], dtype=object)"
      ]
     },
     "execution_count": 760,
     "metadata": {},
     "output_type": "execute_result"
    },
    {
     "data": {
      "image/png": "[encoded data removed]",
      "text/plain": [
       "<Figure size 432x288 with 1 Axes>"
      ]
     },
     "metadata": {
      "needs_background": "light"
     },
     "output_type": "display_data"
    }
   ],
   "source": [
    "new_df.hist(['lot_size_sqft'])"
   ]
  },
  {
   "cell_type": "code",
   "execution_count": 761,
   "id": "1001aa7d",
   "metadata": {},
   "outputs": [],
   "source": [
    "new_df['size']=np.log(new_df['size'])"
   ]
  },
  {
   "cell_type": "code",
   "execution_count": 762,
   "id": "8869b3b1",
   "metadata": {},
   "outputs": [
    {
     "data": {
      "text/plain": [
       "array([[<AxesSubplot:title={'center':'size'}>]], dtype=object)"
      ]
     },
     "execution_count": 762,
     "metadata": {},
     "output_type": "execute_result"
    },
    {
     "data": {
      "image/png": "[encoded data removed]",
      "text/plain": [
       "<Figure size 432x288 with 1 Axes>"
      ]
     },
     "metadata": {
      "needs_background": "light"
     },
     "output_type": "display_data"
    }
   ],
   "source": [
    "new_df.hist(['size'])"
   ]
  },
  {
   "cell_type": "code",
   "execution_count": 763,
   "id": "bdbe01f1",
   "metadata": {},
   "outputs": [],
   "source": [
    "new_df['baths']=np.log(new_df['baths'])"
   ]
  },
  {
   "cell_type": "code",
   "execution_count": 764,
   "id": "a2142664",
   "metadata": {},
   "outputs": [
    {
     "data": {
      "text/plain": [
       "array([[<AxesSubplot:title={'center':'baths'}>]], dtype=object)"
      ]
     },
     "execution_count": 764,
     "metadata": {},
     "output_type": "execute_result"
    },
    {
     "data": {
      "image/png": "[encoded data removed]",
      "text/plain": [
       "<Figure size 432x288 with 1 Axes>"
      ]
     },
     "metadata": {
      "needs_background": "light"
     },
     "output_type": "display_data"
    }
   ],
   "source": [
    "new_df.hist(['baths'])"
   ]
  },
  {
   "cell_type": "code",
   "execution_count": 765,
   "id": "fbebeb09",
   "metadata": {},
   "outputs": [],
   "source": [
    "new_df['beds']=np.log(new_df['beds'])"
   ]
  },
  {
   "cell_type": "code",
   "execution_count": 766,
   "id": "79f8b21c",
   "metadata": {},
   "outputs": [
    {
     "data": {
      "text/plain": [
       "array([[<AxesSubplot:title={'center':'beds'}>]], dtype=object)"
      ]
     },
     "execution_count": 766,
     "metadata": {},
     "output_type": "execute_result"
    },
    {
     "data": {
      "image/png": "[encoded data removed]",
      "text/plain": [
       "<Figure size 432x288 with 1 Axes>"
      ]
     },
     "metadata": {
      "needs_background": "light"
     },
     "output_type": "display_data"
    }
   ],
   "source": [
    "new_df.hist(['beds'])"
   ]
  },
  {
   "cell_type": "code",
   "execution_count": 767,
   "id": "551f6a15",
   "metadata": {},
   "outputs": [],
   "source": [
    "new_df['zip_code']=np.log(new_df['zip_code'])"
   ]
  },
  {
   "cell_type": "code",
   "execution_count": 768,
   "id": "8e2408ba",
   "metadata": {},
   "outputs": [
    {
     "data": {
      "text/plain": [
       "array([[<AxesSubplot:title={'center':'zip_code'}>]], dtype=object)"
      ]
     },
     "execution_count": 768,
     "metadata": {},
     "output_type": "execute_result"
    },
    {
     "data": {
      "image/png": "[encoded data removed]",
      "text/plain": [
       "<Figure size 432x288 with 1 Axes>"
      ]
     },
     "metadata": {
      "needs_background": "light"
     },
     "output_type": "display_data"
    }
   ],
   "source": [
    "new_df.hist(['zip_code'])"
   ]
  },
  {
   "cell_type": "code",
   "execution_count": 769,
   "id": "5977621d",
   "metadata": {},
   "outputs": [
    {
     "data": {
      "text/plain": [
       "1359    17.034386\n",
       "1700    17.034386\n",
       "325     15.648092\n",
       "637     15.648092\n",
       "61      15.519349\n",
       "Name: price, dtype: float64"
      ]
     },
     "execution_count": 769,
     "metadata": {},
     "output_type": "execute_result"
    }
   ],
   "source": [
    "new_df['price'].sort_values(ascending= False).head()   #checking for the two outliers."
   ]
  },
  {
   "cell_type": "code",
   "execution_count": 770,
   "id": "bd850de5",
   "metadata": {},
   "outputs": [
    {
     "data": {
      "image/png": "[encoded data removed]",
      "text/plain": [
       "<Figure size 432x288 with 1 Axes>"
      ]
     },
     "metadata": {
      "needs_background": "light"
     },
     "output_type": "display_data"
    },
    {
     "data": {
      "image/png": "[encoded data removed]",
      "text/plain": [
       "<Figure size 432x288 with 1 Axes>"
      ]
     },
     "metadata": {
      "needs_background": "light"
     },
     "output_type": "display_data"
    },
    {
     "data": {
      "image/png": "[encoded data removed]",
      "text/plain": [
       "<Figure size 432x288 with 1 Axes>"
      ]
     },
     "metadata": {
      "needs_background": "light"
     },
     "output_type": "display_data"
    },
    {
     "data": {
      "image/png": "[encoded data removed]",
      "text/plain": [
       "<Figure size 432x288 with 1 Axes>"
      ]
     },
     "metadata": {
      "needs_background": "light"
     },
     "output_type": "display_data"
    }
   ],
   "source": [
    "plt.figure()\n",
    "sb.distplot(new_df['beds'])\n",
    "plt.show()\n",
    "\n",
    "plt.figure()\n",
    "sb.distplot(new_df['price'])\n",
    "plt.show()\n",
    "\n",
    "plt.figure()\n",
    "sb.distplot(new_df['baths'])\n",
    "plt.show()\n",
    "\n",
    "plt.figure()\n",
    "sb.distplot(new_df['size'])\n",
    "plt.show()\n"
   ]
  },
  {
   "cell_type": "code",
   "execution_count": 771,
   "id": "5d863646",
   "metadata": {},
   "outputs": [],
   "source": [
    "from sklearn.preprocessing import LabelEncoder"
   ]
  },
  {
   "cell_type": "code",
   "execution_count": 772,
   "id": "b6a0ac43",
   "metadata": {},
   "outputs": [],
   "source": [
    "label_encoder=LabelEncoder()"
   ]
  },
  {
   "cell_type": "code",
   "execution_count": 773,
   "id": "dfe701ca",
   "metadata": {},
   "outputs": [],
   "source": [
    "new_df['lot_size_units']=label_encoder.fit_transform(new_df['lot_size_units'])"
   ]
  },
  {
   "cell_type": "code",
   "execution_count": 774,
   "id": "72e15dd7",
   "metadata": {},
   "outputs": [
    {
     "data": {
      "text/plain": [
       "0"
      ]
     },
     "execution_count": 774,
     "metadata": {},
     "output_type": "execute_result"
    }
   ],
   "source": [
    "new_df['lot_size_units'].isnull().sum()"
   ]
  },
  {
   "cell_type": "code",
   "execution_count": 775,
   "id": "44278837",
   "metadata": {},
   "outputs": [
    {
     "data": {
      "text/plain": [
       "beds               float64\n",
       "baths              float64\n",
       "size               float64\n",
       "size_units          object\n",
       "lot_size           float64\n",
       "lot_size_units       int32\n",
       "zip_code           float64\n",
       "price              float64\n",
       "lot_size_sqft      float64\n",
       "zip_cat           category\n",
       "dtype: object"
      ]
     },
     "execution_count": 775,
     "metadata": {},
     "output_type": "execute_result"
    }
   ],
   "source": [
    "new_df.dtypes"
   ]
  },
  {
   "cell_type": "code",
   "execution_count": 776,
   "id": "fe32dd46",
   "metadata": {},
   "outputs": [],
   "source": [
    "X=new_df.drop(['size_units','price','lot_size','zip_code'],axis=1)\n",
    "y=new_df['price']"
   ]
  },
  {
   "cell_type": "code",
   "execution_count": 777,
   "id": "e73ca6d1",
   "metadata": {},
   "outputs": [
    {
     "data": {
      "text/html": [
       "<div>\n",
       "<style scoped>\n",
       "    .dataframe tbody tr th:only-of-type {\n",
       "        vertical-align: middle;\n",
       "    }\n",
       "\n",
       "    .dataframe tbody tr th {\n",
       "        vertical-align: top;\n",
       "    }\n",
       "\n",
       "    .dataframe thead th {\n",
       "        text-align: right;\n",
       "    }\n",
       "</style>\n",
       "<table border=\"1\" class=\"dataframe\">\n",
       "  <thead>\n",
       "    <tr style=\"text-align: right;\">\n",
       "      <th></th>\n",
       "      <th>beds</th>\n",
       "      <th>baths</th>\n",
       "      <th>size</th>\n",
       "      <th>lot_size_units</th>\n",
       "      <th>lot_size_sqft</th>\n",
       "      <th>zip_cat</th>\n",
       "    </tr>\n",
       "  </thead>\n",
       "  <tbody>\n",
       "    <tr>\n",
       "      <th>0</th>\n",
       "      <td>1.098612</td>\n",
       "      <td>0.916291</td>\n",
       "      <td>7.859413</td>\n",
       "      <td>1</td>\n",
       "      <td>8.699515</td>\n",
       "      <td>98144</td>\n",
       "    </tr>\n",
       "    <tr>\n",
       "      <th>1</th>\n",
       "      <td>1.386294</td>\n",
       "      <td>0.693147</td>\n",
       "      <td>7.714231</td>\n",
       "      <td>0</td>\n",
       "      <td>9.510712</td>\n",
       "      <td>98106</td>\n",
       "    </tr>\n",
       "    <tr>\n",
       "      <th>2</th>\n",
       "      <td>1.386294</td>\n",
       "      <td>1.098612</td>\n",
       "      <td>7.620705</td>\n",
       "      <td>1</td>\n",
       "      <td>8.238273</td>\n",
       "      <td>98107</td>\n",
       "    </tr>\n",
       "    <tr>\n",
       "      <th>3</th>\n",
       "      <td>1.386294</td>\n",
       "      <td>1.098612</td>\n",
       "      <td>8.242756</td>\n",
       "      <td>1</td>\n",
       "      <td>8.551595</td>\n",
       "      <td>98199</td>\n",
       "    </tr>\n",
       "    <tr>\n",
       "      <th>4</th>\n",
       "      <td>0.693147</td>\n",
       "      <td>0.693147</td>\n",
       "      <td>6.948897</td>\n",
       "      <td>2</td>\n",
       "      <td>8.517193</td>\n",
       "      <td>98102</td>\n",
       "    </tr>\n",
       "    <tr>\n",
       "      <th>...</th>\n",
       "      <td>...</td>\n",
       "      <td>...</td>\n",
       "      <td>...</td>\n",
       "      <td>...</td>\n",
       "      <td>...</td>\n",
       "      <td>...</td>\n",
       "    </tr>\n",
       "    <tr>\n",
       "      <th>497</th>\n",
       "      <td>0.693147</td>\n",
       "      <td>0.916291</td>\n",
       "      <td>7.130899</td>\n",
       "      <td>1</td>\n",
       "      <td>6.907755</td>\n",
       "      <td>98107</td>\n",
       "    </tr>\n",
       "    <tr>\n",
       "      <th>499</th>\n",
       "      <td>0.693147</td>\n",
       "      <td>0.405465</td>\n",
       "      <td>6.992096</td>\n",
       "      <td>1</td>\n",
       "      <td>7.499423</td>\n",
       "      <td>98117</td>\n",
       "    </tr>\n",
       "    <tr>\n",
       "      <th>501</th>\n",
       "      <td>1.098612</td>\n",
       "      <td>0.916291</td>\n",
       "      <td>7.237059</td>\n",
       "      <td>1</td>\n",
       "      <td>7.358831</td>\n",
       "      <td>98126</td>\n",
       "    </tr>\n",
       "    <tr>\n",
       "      <th>502</th>\n",
       "      <td>1.098612</td>\n",
       "      <td>0.916291</td>\n",
       "      <td>7.989560</td>\n",
       "      <td>0</td>\n",
       "      <td>9.926872</td>\n",
       "      <td>98118</td>\n",
       "    </tr>\n",
       "    <tr>\n",
       "      <th>504</th>\n",
       "      <td>1.098612</td>\n",
       "      <td>0.693147</td>\n",
       "      <td>7.170888</td>\n",
       "      <td>1</td>\n",
       "      <td>8.006368</td>\n",
       "      <td>98103</td>\n",
       "    </tr>\n",
       "  </tbody>\n",
       "</table>\n",
       "<p>2321 rows × 6 columns</p>\n",
       "</div>"
      ],
      "text/plain": [
       "         beds     baths      size  lot_size_units  lot_size_sqft zip_cat\n",
       "0    1.098612  0.916291  7.859413               1       8.699515   98144\n",
       "1    1.386294  0.693147  7.714231               0       9.510712   98106\n",
       "2    1.386294  1.098612  7.620705               1       8.238273   98107\n",
       "3    1.386294  1.098612  8.242756               1       8.551595   98199\n",
       "4    0.693147  0.693147  6.948897               2       8.517193   98102\n",
       "..        ...       ...       ...             ...            ...     ...\n",
       "497  0.693147  0.916291  7.130899               1       6.907755   98107\n",
       "499  0.693147  0.405465  6.992096               1       7.499423   98117\n",
       "501  1.098612  0.916291  7.237059               1       7.358831   98126\n",
       "502  1.098612  0.916291  7.989560               0       9.926872   98118\n",
       "504  1.098612  0.693147  7.170888               1       8.006368   98103\n",
       "\n",
       "[2321 rows x 6 columns]"
      ]
     },
     "execution_count": 777,
     "metadata": {},
     "output_type": "execute_result"
    }
   ],
   "source": [
    "X"
   ]
  },
  {
   "cell_type": "code",
   "execution_count": 778,
   "id": "e536b8be",
   "metadata": {},
   "outputs": [
    {
     "data": {
      "text/plain": [
       "0      13.586097\n",
       "1      13.726679\n",
       "2      13.764217\n",
       "3      14.483340\n",
       "4      13.764217\n",
       "         ...    \n",
       "497    13.554146\n",
       "499    13.350295\n",
       "501    13.262125\n",
       "502    14.948524\n",
       "504    13.704579\n",
       "Name: price, Length: 2321, dtype: float64"
      ]
     },
     "execution_count": 778,
     "metadata": {},
     "output_type": "execute_result"
    }
   ],
   "source": [
    "y"
   ]
  },
  {
   "cell_type": "code",
   "execution_count": 779,
   "id": "0bbae6fc",
   "metadata": {},
   "outputs": [],
   "source": [
    "from sklearn.model_selection import train_test_split"
   ]
  },
  {
   "cell_type": "code",
   "execution_count": 780,
   "id": "057fcf43",
   "metadata": {},
   "outputs": [],
   "source": [
    "X_train,X_test,y_train,y_test=train_test_split(X,y,test_size=0.3,random_state=0)"
   ]
  },
  {
   "cell_type": "code",
   "execution_count": 781,
   "id": "ce271593",
   "metadata": {},
   "outputs": [
    {
     "data": {
      "text/html": [
       "<div>\n",
       "<style scoped>\n",
       "    .dataframe tbody tr th:only-of-type {\n",
       "        vertical-align: middle;\n",
       "    }\n",
       "\n",
       "    .dataframe tbody tr th {\n",
       "        vertical-align: top;\n",
       "    }\n",
       "\n",
       "    .dataframe thead th {\n",
       "        text-align: right;\n",
       "    }\n",
       "</style>\n",
       "<table border=\"1\" class=\"dataframe\">\n",
       "  <thead>\n",
       "    <tr style=\"text-align: right;\">\n",
       "      <th></th>\n",
       "      <th>beds</th>\n",
       "      <th>baths</th>\n",
       "      <th>size</th>\n",
       "      <th>lot_size_units</th>\n",
       "      <th>lot_size_sqft</th>\n",
       "      <th>zip_cat</th>\n",
       "    </tr>\n",
       "  </thead>\n",
       "  <tbody>\n",
       "    <tr>\n",
       "      <th>1009</th>\n",
       "      <td>1.098612</td>\n",
       "      <td>0.693147</td>\n",
       "      <td>7.426549</td>\n",
       "      <td>1</td>\n",
       "      <td>8.517193</td>\n",
       "      <td>98199</td>\n",
       "    </tr>\n",
       "    <tr>\n",
       "      <th>1139</th>\n",
       "      <td>0.693147</td>\n",
       "      <td>0.000000</td>\n",
       "      <td>6.756932</td>\n",
       "      <td>1</td>\n",
       "      <td>8.476371</td>\n",
       "      <td>98108</td>\n",
       "    </tr>\n",
       "    <tr>\n",
       "      <th>370</th>\n",
       "      <td>1.098612</td>\n",
       "      <td>0.693147</td>\n",
       "      <td>7.787382</td>\n",
       "      <td>1</td>\n",
       "      <td>8.507143</td>\n",
       "      <td>98199</td>\n",
       "    </tr>\n",
       "    <tr>\n",
       "      <th>600</th>\n",
       "      <td>1.098612</td>\n",
       "      <td>0.693147</td>\n",
       "      <td>7.630461</td>\n",
       "      <td>1</td>\n",
       "      <td>8.035926</td>\n",
       "      <td>98118</td>\n",
       "    </tr>\n",
       "    <tr>\n",
       "      <th>1484</th>\n",
       "      <td>0.693147</td>\n",
       "      <td>0.000000</td>\n",
       "      <td>6.845880</td>\n",
       "      <td>1</td>\n",
       "      <td>8.101678</td>\n",
       "      <td>98118</td>\n",
       "    </tr>\n",
       "    <tr>\n",
       "      <th>...</th>\n",
       "      <td>...</td>\n",
       "      <td>...</td>\n",
       "      <td>...</td>\n",
       "      <td>...</td>\n",
       "      <td>...</td>\n",
       "      <td>...</td>\n",
       "    </tr>\n",
       "    <tr>\n",
       "      <th>1116</th>\n",
       "      <td>1.098612</td>\n",
       "      <td>0.693147</td>\n",
       "      <td>7.261927</td>\n",
       "      <td>1</td>\n",
       "      <td>6.591674</td>\n",
       "      <td>98117</td>\n",
       "    </tr>\n",
       "    <tr>\n",
       "      <th>1873</th>\n",
       "      <td>1.386294</td>\n",
       "      <td>0.693147</td>\n",
       "      <td>7.951559</td>\n",
       "      <td>1</td>\n",
       "      <td>8.656955</td>\n",
       "      <td>98126</td>\n",
       "    </tr>\n",
       "    <tr>\n",
       "      <th>829</th>\n",
       "      <td>1.098612</td>\n",
       "      <td>0.000000</td>\n",
       "      <td>7.138867</td>\n",
       "      <td>0</td>\n",
       "      <td>9.542460</td>\n",
       "      <td>98168</td>\n",
       "    </tr>\n",
       "    <tr>\n",
       "      <th>902</th>\n",
       "      <td>0.693147</td>\n",
       "      <td>0.693147</td>\n",
       "      <td>7.106606</td>\n",
       "      <td>1</td>\n",
       "      <td>6.626718</td>\n",
       "      <td>98118</td>\n",
       "    </tr>\n",
       "    <tr>\n",
       "      <th>1792</th>\n",
       "      <td>0.000000</td>\n",
       "      <td>0.916291</td>\n",
       "      <td>7.705262</td>\n",
       "      <td>1</td>\n",
       "      <td>7.831617</td>\n",
       "      <td>98103</td>\n",
       "    </tr>\n",
       "  </tbody>\n",
       "</table>\n",
       "<p>1624 rows × 6 columns</p>\n",
       "</div>"
      ],
      "text/plain": [
       "          beds     baths      size  lot_size_units  lot_size_sqft zip_cat\n",
       "1009  1.098612  0.693147  7.426549               1       8.517193   98199\n",
       "1139  0.693147  0.000000  6.756932               1       8.476371   98108\n",
       "370   1.098612  0.693147  7.787382               1       8.507143   98199\n",
       "600   1.098612  0.693147  7.630461               1       8.035926   98118\n",
       "1484  0.693147  0.000000  6.845880               1       8.101678   98118\n",
       "...        ...       ...       ...             ...            ...     ...\n",
       "1116  1.098612  0.693147  7.261927               1       6.591674   98117\n",
       "1873  1.386294  0.693147  7.951559               1       8.656955   98126\n",
       "829   1.098612  0.000000  7.138867               0       9.542460   98168\n",
       "902   0.693147  0.693147  7.106606               1       6.626718   98118\n",
       "1792  0.000000  0.916291  7.705262               1       7.831617   98103\n",
       "\n",
       "[1624 rows x 6 columns]"
      ]
     },
     "execution_count": 781,
     "metadata": {},
     "output_type": "execute_result"
    }
   ],
   "source": [
    "X_train"
   ]
  },
  {
   "cell_type": "code",
   "execution_count": 782,
   "id": "c5b869cc",
   "metadata": {},
   "outputs": [
    {
     "data": {
      "text/plain": [
       "1009    13.899392\n",
       "1139    13.244581\n",
       "370     13.895246\n",
       "600     13.458836\n",
       "1484    13.217674\n",
       "          ...    \n",
       "1116    13.541072\n",
       "1873    13.976779\n",
       "829     12.994530\n",
       "902     13.304685\n",
       "1792    13.997832\n",
       "Name: price, Length: 1624, dtype: float64"
      ]
     },
     "execution_count": 782,
     "metadata": {},
     "output_type": "execute_result"
    }
   ],
   "source": [
    "y_train"
   ]
  },
  {
   "cell_type": "code",
   "execution_count": 783,
   "id": "88bd7fd0",
   "metadata": {},
   "outputs": [],
   "source": [
    "from sklearn.linear_model import LinearRegression"
   ]
  },
  {
   "cell_type": "code",
   "execution_count": 784,
   "id": "861acba0",
   "metadata": {},
   "outputs": [],
   "source": [
    "model=LinearRegression()"
   ]
  },
  {
   "cell_type": "code",
   "execution_count": 785,
   "id": "baa823dc",
   "metadata": {},
   "outputs": [
    {
     "data": {
      "text/plain": [
       "LinearRegression()"
      ]
     },
     "execution_count": 785,
     "metadata": {},
     "output_type": "execute_result"
    }
   ],
   "source": [
    "model.fit(X_train,y_train)\n",
    "#model.score(X_test,y_test)"
   ]
  },
  {
   "cell_type": "code",
   "execution_count": 786,
   "id": "70d0673b",
   "metadata": {},
   "outputs": [
    {
     "name": "stdout",
     "output_type": "stream",
     "text": [
      "[-0.05096687  0.18005001  0.69387634 -0.03270412 -0.021644   -0.00258413]\n"
     ]
    }
   ],
   "source": [
    "print(model.coef_)"
   ]
  },
  {
   "cell_type": "code",
   "execution_count": 787,
   "id": "bb36918d",
   "metadata": {},
   "outputs": [
    {
     "data": {
      "text/html": [
       "<div>\n",
       "<style scoped>\n",
       "    .dataframe tbody tr th:only-of-type {\n",
       "        vertical-align: middle;\n",
       "    }\n",
       "\n",
       "    .dataframe tbody tr th {\n",
       "        vertical-align: top;\n",
       "    }\n",
       "\n",
       "    .dataframe thead th {\n",
       "        text-align: right;\n",
       "    }\n",
       "</style>\n",
       "<table border=\"1\" class=\"dataframe\">\n",
       "  <thead>\n",
       "    <tr style=\"text-align: right;\">\n",
       "      <th></th>\n",
       "      <th>Coeff</th>\n",
       "    </tr>\n",
       "  </thead>\n",
       "  <tbody>\n",
       "    <tr>\n",
       "      <th>beds</th>\n",
       "      <td>-0.050967</td>\n",
       "    </tr>\n",
       "    <tr>\n",
       "      <th>baths</th>\n",
       "      <td>0.180050</td>\n",
       "    </tr>\n",
       "    <tr>\n",
       "      <th>size</th>\n",
       "      <td>0.693876</td>\n",
       "    </tr>\n",
       "    <tr>\n",
       "      <th>lot_size_units</th>\n",
       "      <td>-0.032704</td>\n",
       "    </tr>\n",
       "    <tr>\n",
       "      <th>lot_size_sqft</th>\n",
       "      <td>-0.021644</td>\n",
       "    </tr>\n",
       "    <tr>\n",
       "      <th>zip_cat</th>\n",
       "      <td>-0.002584</td>\n",
       "    </tr>\n",
       "  </tbody>\n",
       "</table>\n",
       "</div>"
      ],
      "text/plain": [
       "                   Coeff\n",
       "beds           -0.050967\n",
       "baths           0.180050\n",
       "size            0.693876\n",
       "lot_size_units -0.032704\n",
       "lot_size_sqft  -0.021644\n",
       "zip_cat        -0.002584"
      ]
     },
     "execution_count": 787,
     "metadata": {},
     "output_type": "execute_result"
    }
   ],
   "source": [
    "pd.DataFrame(model.coef_,X.columns,columns=['Coeff'])"
   ]
  },
  {
   "cell_type": "code",
   "execution_count": 788,
   "id": "c52c27fd",
   "metadata": {},
   "outputs": [],
   "source": [
    "prediction=model.predict(X_test)"
   ]
  },
  {
   "cell_type": "code",
   "execution_count": 789,
   "id": "3290dca4",
   "metadata": {},
   "outputs": [],
   "source": [
    "from sklearn import metrics"
   ]
  },
  {
   "cell_type": "code",
   "execution_count": 790,
   "id": "184e4111",
   "metadata": {},
   "outputs": [
    {
     "data": {
      "text/plain": [
       "0.2177916662116626"
      ]
     },
     "execution_count": 790,
     "metadata": {},
     "output_type": "execute_result"
    }
   ],
   "source": [
    "metrics.mean_absolute_error(y_test,prediction)"
   ]
  },
  {
   "cell_type": "code",
   "execution_count": 791,
   "id": "2e852e83",
   "metadata": {},
   "outputs": [
    {
     "data": {
      "text/plain": [
       "0.08668088251372119"
      ]
     },
     "execution_count": 791,
     "metadata": {},
     "output_type": "execute_result"
    }
   ],
   "source": [
    "metrics.mean_squared_error(y_test,prediction)"
   ]
  },
  {
   "cell_type": "code",
   "execution_count": 792,
   "id": "bd1034f2",
   "metadata": {},
   "outputs": [
    {
     "data": {
      "text/plain": [
       "262.2484898552883"
      ]
     },
     "execution_count": 792,
     "metadata": {},
     "output_type": "execute_result"
    }
   ],
   "source": [
    "model.intercept_"
   ]
  },
  {
   "cell_type": "code",
   "execution_count": 793,
   "id": "e18ed166",
   "metadata": {},
   "outputs": [
    {
     "data": {
      "text/plain": [
       "0.01603249850143043"
      ]
     },
     "execution_count": 793,
     "metadata": {},
     "output_type": "execute_result"
    }
   ],
   "source": [
    "metrics.mean_absolute_percentage_error(y_test,prediction)"
   ]
  },
  {
   "cell_type": "code",
   "execution_count": 806,
   "id": "20d280c5",
   "metadata": {},
   "outputs": [
    {
     "data": {
      "text/plain": [
       "0.6249393582605693"
      ]
     },
     "execution_count": 806,
     "metadata": {},
     "output_type": "execute_result"
    }
   ],
   "source": [
    "metrics.r2_score(y_test,prediction)"
   ]
  },
  {
   "cell_type": "code",
   "execution_count": 795,
   "id": "ed1f5247",
   "metadata": {},
   "outputs": [
    {
     "data": {
      "text/plain": [
       "<matplotlib.collections.PathCollection at 0x2803aa93550>"
      ]
     },
     "execution_count": 795,
     "metadata": {},
     "output_type": "execute_result"
    },
    {
     "data": {
      "image/png": "[encoded data removed]",
      "text/plain": [
       "<Figure size 432x288 with 1 Axes>"
      ]
     },
     "metadata": {
      "needs_background": "light"
     },
     "output_type": "display_data"
    }
   ],
   "source": [
    "plt.scatter(y_test,prediction)"
   ]
  },
  {
   "cell_type": "code",
   "execution_count": 796,
   "id": "283d0b71",
   "metadata": {},
   "outputs": [
    {
     "data": {
      "text/plain": [
       "Text(0, 0.5, 'Prediction')"
      ]
     },
     "execution_count": 796,
     "metadata": {},
     "output_type": "execute_result"
    },
    {
     "data": {
      "image/png": "[encoded data removed]",
      "text/plain": [
       "<Figure size 432x288 with 1 Axes>"
      ]
     },
     "metadata": {
      "needs_background": "light"
     },
     "output_type": "display_data"
    }
   ],
   "source": [
    "plt.scatter(y_test,prediction)\n",
    "plt.xlabel(\"Y TEST\")\n",
    "plt.ylabel(\"Prediction\")"
   ]
  },
  {
   "cell_type": "code",
   "execution_count": 797,
   "id": "a1e9a36e",
   "metadata": {},
   "outputs": [],
   "source": [
    "# sb.lmplot(x='price',y='zip_cat',data=new_df)"
   ]
  },
  {
   "cell_type": "code",
   "execution_count": 798,
   "id": "6261fbde",
   "metadata": {},
   "outputs": [
    {
     "data": {
      "text/plain": [
       "beds              1.866872e-01\n",
       "baths             1.918141e-01\n",
       "size              2.316530e-01\n",
       "lot_size          7.400441e+06\n",
       "lot_size_units    2.863800e-01\n",
       "zip_code          5.540853e-08\n",
       "price             2.429928e-01\n",
       "lot_size_sqft     9.084420e-01\n",
       "dtype: float64"
      ]
     },
     "execution_count": 798,
     "metadata": {},
     "output_type": "execute_result"
    }
   ],
   "source": [
    "new_df.var()"
   ]
  },
  {
   "cell_type": "code",
   "execution_count": 807,
   "id": "b369ec65",
   "metadata": {},
   "outputs": [],
   "source": [
    "from sklearn.ensemble import RandomForestRegressor"
   ]
  },
  {
   "cell_type": "code",
   "execution_count": 808,
   "id": "48b3f54f",
   "metadata": {},
   "outputs": [
    {
     "data": {
      "text/plain": [
       "RandomForestRegressor(n_estimators=10, random_state=70)"
      ]
     },
     "execution_count": 808,
     "metadata": {},
     "output_type": "execute_result"
    }
   ],
   "source": [
    "rdf = RandomForestRegressor(n_estimators=10,random_state=70)\n",
    "rdf.fit(X_train,y_train)"
   ]
  },
  {
   "cell_type": "code",
   "execution_count": 809,
   "id": "71267efe",
   "metadata": {},
   "outputs": [],
   "source": [
    "rdf_pred = rdf.predict(X_test)"
   ]
  },
  {
   "cell_type": "code",
   "execution_count": 810,
   "id": "13c607c8",
   "metadata": {},
   "outputs": [
    {
     "data": {
      "text/plain": [
       "0.1934611164092463"
      ]
     },
     "execution_count": 810,
     "metadata": {},
     "output_type": "execute_result"
    }
   ],
   "source": [
    "metrics.mean_absolute_error(y_test,rdf_pred)"
   ]
  },
  {
   "cell_type": "code",
   "execution_count": 811,
   "id": "bbde46ec",
   "metadata": {},
   "outputs": [
    {
     "data": {
      "text/plain": [
       "0.6778692278467734"
      ]
     },
     "execution_count": 811,
     "metadata": {},
     "output_type": "execute_result"
    }
   ],
   "source": [
    "metrics.r2_score(y_test,rdf_pred)"
   ]
  },
  {
   "cell_type": "code",
   "execution_count": null,
   "id": "247b15cb",
   "metadata": {},
   "outputs": [],
   "source": []
  },
  {
   "cell_type": "code",
   "execution_count": null,
   "id": "06f35ee4",
   "metadata": {},
   "outputs": [],
   "source": []
  },
  {
   "cell_type": "code",
   "execution_count": null,
   "id": "0e901863",
   "metadata": {},
   "outputs": [],
   "source": []
  }
 ],
 "metadata": {
  "kernelspec": {
   "display_name": "Python 3 (ipykernel)",
   "language": "python",
   "name": "python3"
  },
  "language_info": {
   "codemirror_mode": {
    "name": "ipython",
    "version": 3
   },
   "file_extension": ".py",
   "mimetype": "text/x-python",
   "name": "python",
   "nbconvert_exporter": "python",
   "pygments_lexer": "ipython3",
   "version": "3.9.12"
  }
 },
 "nbformat": 4,
 "nbformat_minor": 5
}
